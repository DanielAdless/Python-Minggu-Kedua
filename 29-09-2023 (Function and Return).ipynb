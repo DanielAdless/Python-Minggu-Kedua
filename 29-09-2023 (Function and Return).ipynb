{
 "cells": [
  {
   "cell_type": "code",
   "execution_count": 1,
   "id": "8e460367",
   "metadata": {},
   "outputs": [],
   "source": [
    "# Function adalah blok kode yang dirancang untuk menjalankan tugas tertentu dan dapat dipanggil atau dieksekusi oleh program utama atau fungsi lain."
   ]
  },
  {
   "cell_type": "code",
   "execution_count": 21,
   "id": "87cab950",
   "metadata": {},
   "outputs": [],
   "source": [
    "# Fungsi pangkat 2\n",
    "def pangkat(x):\n",
    "    kuadrat = x**2\n",
    "    return kuadrat"
   ]
  },
  {
   "cell_type": "code",
   "execution_count": 22,
   "id": "31dc013e",
   "metadata": {},
   "outputs": [
    {
     "data": {
      "text/plain": [
       "25"
      ]
     },
     "execution_count": 22,
     "metadata": {},
     "output_type": "execute_result"
    }
   ],
   "source": [
    "pangkat(5)"
   ]
  },
  {
   "cell_type": "code",
   "execution_count": 23,
   "id": "2f247498",
   "metadata": {},
   "outputs": [
    {
     "data": {
      "text/plain": [
       "9"
      ]
     },
     "execution_count": 23,
     "metadata": {},
     "output_type": "execute_result"
    }
   ],
   "source": [
    "pangkat(3)"
   ]
  },
  {
   "cell_type": "code",
   "execution_count": 28,
   "id": "daf90018",
   "metadata": {},
   "outputs": [],
   "source": [
    "def pangkat_tiga(x):\n",
    "    kubik = x**3\n",
    "    print(kubik)"
   ]
  },
  {
   "cell_type": "code",
   "execution_count": 29,
   "id": "6b4b61c8",
   "metadata": {},
   "outputs": [
    {
     "name": "stdout",
     "output_type": "stream",
     "text": [
      "8\n"
     ]
    }
   ],
   "source": [
    "pangkat_tiga(2)"
   ]
  },
  {
   "cell_type": "code",
   "execution_count": 44,
   "id": "565df611",
   "metadata": {},
   "outputs": [
    {
     "name": "stdout",
     "output_type": "stream",
     "text": [
      "Halo kami dari kota Palembang!\n"
     ]
    }
   ],
   "source": [
    "# Task 1\n",
    "\n",
    "def sapa_kota(nama_kota):\n",
    "    return f\"Halo kami dari kota {nama_kota}!\"\n",
    "\n",
    "# Contoh pemanggilan fungsi\n",
    "nama_kota = \"Palembang\"\n",
    "sapaan = sapa_kota(nama_kota)\n",
    "print(sapaan)\n",
    "\n"
   ]
  },
  {
   "cell_type": "code",
   "execution_count": 4,
   "id": "f6997efc",
   "metadata": {},
   "outputs": [
    {
     "name": "stdout",
     "output_type": "stream",
     "text": [
      "Hasil penjumlahan 5 + 3 adalah = 8\n"
     ]
    }
   ],
   "source": [
    "def penjumlahan(a, b):\n",
    "    hasil = a + b\n",
    "    return hasil\n",
    "\n",
    "# Pemanggilan fungsi\n",
    "angka1 = 5\n",
    "angka2 = 3\n",
    "hasil_penjumlahan = penjumlahan(angka1, angka2)\n",
    "print(f\"Hasil penjumlahan {angka1} + {angka2} adalah = {hasil_penjumlahan}\")\n",
    "\n",
    "# Fungsi f ini memberi tahu Python bahwa kita ingin memasukkan ekspresi atau variabel di dalam string yang diapit oleh tanda kutip (biasanya tanda kutip tunggal atau ganda) dengan menggunakan tanda kurung kurawal {}.\n"
   ]
  },
  {
   "cell_type": "code",
   "execution_count": null,
   "id": "4e031385",
   "metadata": {},
   "outputs": [],
   "source": [
    "# Return"
   ]
  },
  {
   "cell_type": "code",
   "execution_count": 8,
   "id": "d639eb63",
   "metadata": {},
   "outputs": [
    {
     "name": "stdout",
     "output_type": "stream",
     "text": [
      "Hasil penjumlahan adalah =  8\n"
     ]
    }
   ],
   "source": [
    "def tambah(a, b):\n",
    "    hasil = a + b\n",
    "    return hasil\n",
    "\n",
    "hasil_penjumlahan = tambah(5, 3)\n",
    "print(\"Hasil penjumlahan adalah = \", hasil_penjumlahan)\n"
   ]
  },
  {
   "cell_type": "code",
   "execution_count": 9,
   "id": "064dbea9",
   "metadata": {},
   "outputs": [],
   "source": [
    "def tambah(x, y):\n",
    "    plus = x + y # fungsi penjumlahan\n",
    "    print(\"Hasil penjumlahan adalah {}\".format(plus))\n",
    "    return plus"
   ]
  },
  {
   "cell_type": "code",
   "execution_count": 10,
   "id": "111230f7",
   "metadata": {},
   "outputs": [
    {
     "name": "stdout",
     "output_type": "stream",
     "text": [
      "Hasil penjumlahan adalah 5\n"
     ]
    },
    {
     "data": {
      "text/plain": [
       "5"
      ]
     },
     "execution_count": 10,
     "metadata": {},
     "output_type": "execute_result"
    }
   ],
   "source": [
    "tambah(2, 3)"
   ]
  },
  {
   "cell_type": "code",
   "execution_count": 63,
   "id": "a175aad4",
   "metadata": {},
   "outputs": [
    {
     "ename": "IndentationError",
     "evalue": "unexpected indent (1809719261.py, line 2)",
     "output_type": "error",
     "traceback": [
      "\u001b[1;36m  Cell \u001b[1;32mIn[63], line 2\u001b[1;36m\u001b[0m\n\u001b[1;33m    print(\"Hasil dari return adalah {}\".format(output))\u001b[0m\n\u001b[1;37m    ^\u001b[0m\n\u001b[1;31mIndentationError\u001b[0m\u001b[1;31m:\u001b[0m unexpected indent\n"
     ]
    }
   ],
   "source": [
    "output = tambah(2,3)\n",
    "   print(\"Hasil dari return adalah {}\".format(output))"
   ]
  },
  {
   "cell_type": "code",
   "execution_count": 69,
   "id": "810e84d2",
   "metadata": {},
   "outputs": [
    {
     "name": "stdout",
     "output_type": "stream",
     "text": [
      "Hasil dari rumus pertama adalah =  19\n",
      "Hasil dari rumus kedua adalah =  64\n"
     ]
    }
   ],
   "source": [
    "# Task 2\n",
    "# Menggunakan 2 function\n",
    "def hitung_rumus_1(a, b):\n",
    "    hasil_rumus_1 = a + b\n",
    "    return hasil_rumus_1\n",
    "\n",
    "def hitung_rumus_2(c, d):\n",
    "    hasil_rumus_2 = c ** d\n",
    "    return hasil_rumus_2\n",
    "\n",
    "# rumus pertama\n",
    "nilai_1 = hitung_rumus_1(9, 10)\n",
    "print(\"Hasil dari rumus pertama adalah = \", nilai_1)\n",
    "\n",
    "#  rumus kedua\n",
    "nilai_2 = hitung_rumus_2(2, 6)\n",
    "print(\"Hasil dari rumus kedua adalah = \", nilai_2)\n"
   ]
  },
  {
   "cell_type": "code",
   "execution_count": 74,
   "id": "f7594648",
   "metadata": {},
   "outputs": [
    {
     "name": "stdout",
     "output_type": "stream",
     "text": [
      "Hasil dari rumus pertama adalah =  19\n",
      "Hasil dari rumus kedua adalah =  64\n"
     ]
    }
   ],
   "source": [
    "# Menggunakan 1 function\n",
    "def hitung_rumus(rumus, a, b):\n",
    "    if rumus == 1:\n",
    "        hasil = a + b\n",
    "    elif rumus == 2:\n",
    "        hasil = a ** b\n",
    "    else:\n",
    "        hasil = None  \n",
    "    return hasil\n",
    "\n",
    "#  rumus 1\n",
    "nilai_1 = hitung_rumus(1, 9, 10)\n",
    "print(\"Hasil dari rumus pertama adalah = \", nilai_1)\n",
    "\n",
    "#  rumus 2\n",
    "nilai_2 = hitung_rumus(2, 2, 6)\n",
    "print(\"Hasil dari rumus kedua adalah = \", nilai_2)\n"
   ]
  },
  {
   "cell_type": "code",
   "execution_count": null,
   "id": "7f7d6d33",
   "metadata": {},
   "outputs": [],
   "source": []
  },
  {
   "cell_type": "code",
   "execution_count": null,
   "id": "999101b8",
   "metadata": {},
   "outputs": [],
   "source": []
  },
  {
   "cell_type": "code",
   "execution_count": null,
   "id": "158f7025",
   "metadata": {},
   "outputs": [],
   "source": []
  },
  {
   "cell_type": "code",
   "execution_count": null,
   "id": "ba599778",
   "metadata": {},
   "outputs": [],
   "source": []
  },
  {
   "cell_type": "code",
   "execution_count": null,
   "id": "df686234",
   "metadata": {},
   "outputs": [],
   "source": []
  },
  {
   "cell_type": "code",
   "execution_count": null,
   "id": "4ef3b1dc",
   "metadata": {},
   "outputs": [],
   "source": []
  }
 ],
 "metadata": {
  "kernelspec": {
   "display_name": "Python 3 (ipykernel)",
   "language": "python",
   "name": "python3"
  },
  "language_info": {
   "codemirror_mode": {
    "name": "ipython",
    "version": 3
   },
   "file_extension": ".py",
   "mimetype": "text/x-python",
   "name": "python",
   "nbconvert_exporter": "python",
   "pygments_lexer": "ipython3",
   "version": "3.11.4"
  }
 },
 "nbformat": 4,
 "nbformat_minor": 5
}
