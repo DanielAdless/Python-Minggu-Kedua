{
 "cells": [
  {
   "cell_type": "code",
   "execution_count": null,
   "id": "b02a3128",
   "metadata": {},
   "outputs": [],
   "source": [
    "# 26-09-2023\n",
    "# while dalam Python adalah sebuah pernyataan pengendalian yang digunakan untuk membuat sebuah loop"
   ]
  },
  {
   "cell_type": "code",
   "execution_count": 1,
   "id": "aef49469",
   "metadata": {},
   "outputs": [
    {
     "name": "stdout",
     "output_type": "stream",
     "text": [
      "1\n",
      "Bilangan 1\n",
      "Bilangan 2\n"
     ]
    }
   ],
   "source": [
    "angka = int(input())\n",
    "while (angka < 3):\n",
    "    print(\"Bilangan {}\".format(angka))\n",
    "    angka = angka + 1"
   ]
  },
  {
   "cell_type": "code",
   "execution_count": 2,
   "id": "52bc4236",
   "metadata": {},
   "outputs": [
    {
     "name": "stdout",
     "output_type": "stream",
     "text": [
      "2\n",
      "Bilangan 2\n",
      "Bilangan 4\n",
      "Bilangan 6\n",
      "Bilangan 8\n"
     ]
    }
   ],
   "source": [
    "angka = int(input())\n",
    "while (angka < 10):\n",
    "    print(\"Bilangan {}\".format(angka))\n",
    "    angka = angka + 2"
   ]
  },
  {
   "cell_type": "code",
   "execution_count": 3,
   "id": "6c36332a",
   "metadata": {},
   "outputs": [
    {
     "name": "stdout",
     "output_type": "stream",
     "text": [
      "2\n",
      "Bilangan 2\n",
      "Bilangan 7\n",
      "Bilangan 12\n"
     ]
    }
   ],
   "source": [
    "# Task 1\n",
    "# Hasil di tambah 5\n",
    "angka = int(input())\n",
    "while (angka < 15):\n",
    "    print(\"Bilangan {}\".format(angka))\n",
    "    angka = angka + 5"
   ]
  },
  {
   "cell_type": "code",
   "execution_count": null,
   "id": "ac4df4ba",
   "metadata": {},
   "outputs": [],
   "source": [
    "# Break adalah pernyataan yang digunakan dalam pemrograman untuk menghentikan eksekusi dari sebuah loop"
   ]
  },
  {
   "cell_type": "code",
   "execution_count": 11,
   "id": "f7302f71",
   "metadata": {},
   "outputs": [
    {
     "name": "stdout",
     "output_type": "stream",
     "text": [
      "1\n",
      "3\n"
     ]
    }
   ],
   "source": [
    "angka = int(input())\n",
    "while angka < 10:\n",
    "    angka = angka + 2\n",
    "    if angka == 5:\n",
    "        break\n",
    "    print(angka)\n",
    "else:\n",
    "    print(\"Loop selesai\")\n",
    "\n",
    "    "
   ]
  },
  {
   "cell_type": "code",
   "execution_count": 24,
   "id": "b2b6178a",
   "metadata": {},
   "outputs": [
    {
     "name": "stdout",
     "output_type": "stream",
     "text": [
      "0\n",
      "Loop selesai.\n"
     ]
    }
   ],
   "source": [
    "angka = int(input())\n",
    "while angka > 0:\n",
    "    angka = angka - 2\n",
    "    print(angka)\n",
    "else:\n",
    "    print(\"Loop selesai.\")\n"
   ]
  },
  {
   "cell_type": "code",
   "execution_count": 4,
   "id": "0f612542",
   "metadata": {},
   "outputs": [
    {
     "name": "stdout",
     "output_type": "stream",
     "text": [
      "Masukkan sebuah angka: 2\n",
      "2 adalah bilangan genap.\n",
      "Masukkan angka lain (0 untuk berhenti): 5\n",
      "5 adalah kelipatan 5.\n"
     ]
    }
   ],
   "source": [
    "# Task 2\n",
    "\n",
    "angka = int(input(\"Masukkan sebuah angka: \"))\n",
    "while angka > 0:\n",
    "    if angka % 5 == 0:\n",
    "        print(f\"{angka} adalah kelipatan 5.\")\n",
    "        break\n",
    "    elif angka % 2 == 0:\n",
    "        print(f\"{angka} adalah bilangan genap.\")\n",
    "    else:\n",
    "        print(f\"{angka} adalah bilangan ganjil yang bukan kelipatan 5.\")\n",
    "    angka = int(input(\"Masukkan angka lain (0 untuk berhenti): \"))\n",
    "else:\n",
    "    print(\"Anda telah keluar dari perulangan.\")"
   ]
  },
  {
   "cell_type": "code",
   "execution_count": 25,
   "id": "a3ae90b6",
   "metadata": {},
   "outputs": [
    {
     "name": "stdout",
     "output_type": "stream",
     "text": [
      "Masukkan sebuah angka: 1\n",
      "Masukkan angka lain: 2\n",
      "2\n",
      "Masukkan angka lain: 4\n",
      "4\n",
      "Masukkan angka lain: 0\n",
      "Perulangan berhenti.\n"
     ]
    }
   ],
   "source": [
    "# Task 3\n",
    "\n",
    "angka = int(input(\"Masukkan sebuah angka: \"))\n",
    "\n",
    "while angka > 0:\n",
    "    if angka % 2 == 0:\n",
    "        if angka == 10:\n",
    "            break\n",
    "        print(angka)\n",
    "    angka = int(input(\"Masukkan angka lain: \"))\n",
    "\n",
    "print(\"Perulangan berhenti.\")"
   ]
  },
  {
   "cell_type": "code",
   "execution_count": 28,
   "id": "c9725165",
   "metadata": {},
   "outputs": [
    {
     "name": "stdout",
     "output_type": "stream",
     "text": [
      "80\n",
      "Pass\n"
     ]
    }
   ],
   "source": [
    "# Latihan hackerrank\n",
    "\n",
    "nilai = int(input().strip())\n",
    "if nilai <= 20:\n",
    "    print(\"Fail\")\n",
    "elif 20 <= nilai <= 70:\n",
    "    print(\"Fail\")\n",
    "elif 70 <= nilai <= 100:\n",
    "    print(\"Pass\")\n"
   ]
  },
  {
   "cell_type": "code",
   "execution_count": null,
   "id": "48962fe9",
   "metadata": {},
   "outputs": [],
   "source": []
  },
  {
   "cell_type": "code",
   "execution_count": null,
   "id": "bdbb55a5",
   "metadata": {},
   "outputs": [],
   "source": []
  },
  {
   "cell_type": "code",
   "execution_count": null,
   "id": "443fab8f",
   "metadata": {},
   "outputs": [],
   "source": []
  },
  {
   "cell_type": "code",
   "execution_count": null,
   "id": "e4645910",
   "metadata": {},
   "outputs": [],
   "source": []
  },
  {
   "cell_type": "code",
   "execution_count": null,
   "id": "4da85f55",
   "metadata": {},
   "outputs": [],
   "source": []
  }
 ],
 "metadata": {
  "kernelspec": {
   "display_name": "Python 3 (ipykernel)",
   "language": "python",
   "name": "python3"
  },
  "language_info": {
   "codemirror_mode": {
    "name": "ipython",
    "version": 3
   },
   "file_extension": ".py",
   "mimetype": "text/x-python",
   "name": "python",
   "nbconvert_exporter": "python",
   "pygments_lexer": "ipython3",
   "version": "3.11.4"
  }
 },
 "nbformat": 4,
 "nbformat_minor": 5
}
