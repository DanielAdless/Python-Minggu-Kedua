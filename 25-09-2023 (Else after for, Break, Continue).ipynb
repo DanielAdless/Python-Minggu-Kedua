{
 "cells": [
  {
   "cell_type": "code",
   "execution_count": null,
   "id": "f9c05713",
   "metadata": {},
   "outputs": [],
   "source": [
    "# Else setelah for biasanya digunakan dalam konteks \"else clause\" dalam konstruksi loop for, dan ini akan dieksekusi ketika loop selesai tanpa adanya interupsi (biasanya oleh pernyataan break)."
   ]
  },
  {
   "cell_type": "code",
   "execution_count": 4,
   "id": "721d4507",
   "metadata": {},
   "outputs": [
    {
     "name": "stdout",
     "output_type": "stream",
     "text": [
      "1 adalah bukan genap\n",
      "2 adalah genap\n",
      "3 adalah bukan genap\n",
      "4 adalah genap\n",
      "5 adalah bukan genap\n",
      "6 adalah genap\n"
     ]
    }
   ],
   "source": [
    "for i in range(1,7) :\n",
    "    if i % 2 == 0 :\n",
    "        print(\"{} adalah genap\".format(i))\n",
    "    else :\n",
    "        print(\"{} adalah bukan genap\".format(i))"
   ]
  },
  {
   "cell_type": "code",
   "execution_count": 2,
   "id": "1f017f5d",
   "metadata": {},
   "outputs": [
    {
     "name": "stdout",
     "output_type": "stream",
     "text": [
      "Bilangan terbesar adalah: 28\n",
      "Bilangan terkecil adalah: 6\n"
     ]
    }
   ],
   "source": [
    "# Task 1\n",
    "numbers = [17, 22, 28, 6, 10, 18]\n",
    "max_num = numbers[0]\n",
    "min_num = numbers[0]\n",
    "\n",
    "for num in numbers:\n",
    "    if num > max_num:\n",
    "        max_num = num\n",
    "    elif num < min_num:\n",
    "        min_num = num\n",
    "else:\n",
    "    print(\"Bilangan terbesar adalah:\", max_num)\n",
    "    print(\"Bilangan terkecil adalah:\", min_num)\n",
    "\n"
   ]
  },
  {
   "cell_type": "code",
   "execution_count": 8,
   "id": "6e64e424",
   "metadata": {},
   "outputs": [
    {
     "name": "stdout",
     "output_type": "stream",
     "text": [
      "D\n",
      "a\n",
      "t\n",
      "a\n"
     ]
    }
   ],
   "source": [
    "# Break digunakan untuk menghentikan eksekusi loop (seperti for atau while) secara tiba-tiba\n",
    "\n",
    "for i in \"Data Science\":\n",
    "    if i == \" \":\n",
    "        break\n",
    "    print(i)\n"
   ]
  },
  {
   "cell_type": "code",
   "execution_count": 13,
   "id": "39d16896",
   "metadata": {},
   "outputs": [
    {
     "name": "stdout",
     "output_type": "stream",
     "text": [
      "D\n",
      "a\n",
      "n\n",
      "i\n",
      "e\n",
      "l\n"
     ]
    }
   ],
   "source": [
    "for i in \"Daniel Adless\":\n",
    "    if i == \" \":\n",
    "        break\n",
    "    print(i)\n"
   ]
  },
  {
   "cell_type": "code",
   "execution_count": 19,
   "id": "72bbad62",
   "metadata": {},
   "outputs": [
    {
     "name": "stdout",
     "output_type": "stream",
     "text": [
      "Saya suka apel\n",
      "Saya suka pisang\n"
     ]
    }
   ],
   "source": [
    "# Task 2\n",
    "\n",
    "fruits = [\"apel\", \"pisang\", \"ceri\", \"semangka\", \"mangga\"]\n",
    "\n",
    "for fruit in fruits:\n",
    "    if fruit == \"ceri\":\n",
    "        break\n",
    "    print(\"Saya suka\", fruit)\n"
   ]
  },
  {
   "cell_type": "code",
   "execution_count": 23,
   "id": "f8191002",
   "metadata": {},
   "outputs": [
    {
     "name": "stdout",
     "output_type": "stream",
     "text": [
      "D\n",
      "t\n",
      " \n",
      "A\n",
      "n\n",
      "l\n",
      "y\n",
      "s\n",
      "t\n"
     ]
    }
   ],
   "source": [
    "# Continue digunakan untuk melanjutkan eksekusi loop saat kondisi tertentu terpenuhi, tanpa menjalankan kode di bawahnya \n",
    "# Contoh ini berhenti di huruf a kecil\n",
    "\n",
    "for i in \"Data Analyst\":\n",
    "    if i == \"a\":\n",
    "        continue\n",
    "    print(i)\n",
    "    \n"
   ]
  },
  {
   "cell_type": "code",
   "execution_count": 1,
   "id": "f7f5f2d5",
   "metadata": {},
   "outputs": [
    {
     "name": "stdout",
     "output_type": "stream",
     "text": [
      "Iterasi ke- 1\n",
      "Iterasi ke- 2\n",
      "Iterasi ke- 4\n",
      "Iterasi ke- 5\n"
     ]
    }
   ],
   "source": [
    "for i in range(1, 6):\n",
    "    if i == 3:\n",
    "        continue  \n",
    "    print(\"Iterasi ke-\", i)\n"
   ]
  },
  {
   "cell_type": "code",
   "execution_count": 32,
   "id": "5827a741",
   "metadata": {},
   "outputs": [
    {
     "name": "stdout",
     "output_type": "stream",
     "text": [
      "1\n",
      "2\n",
      "3\n",
      "4\n",
      "Dijumpai bilangan habis dibagi 5 tetapi bukan habis dibagi 3\n",
      "6\n",
      "7\n",
      "8\n",
      "9\n",
      "Dijumpai bilangan habis dibagi 5 tetapi bukan habis dibagi 3\n",
      "11\n",
      "12\n",
      "13\n",
      "14\n",
      "Dijumpai bilangan habis dibagi 3 dan 5\n"
     ]
    }
   ],
   "source": [
    "# Task 3\n",
    "\n",
    "for nomor in range(1, 21):\n",
    "    if nomor % 5 == 0:\n",
    "        if nomor % 3 == 0:\n",
    "            print(\"Dijumpai bilangan habis dibagi 3 dan 5\")\n",
    "            break\n",
    "        else:\n",
    "            print(\"Dijumpai bilangan habis dibagi 5 tetapi bukan habis dibagi 3\")\n",
    "            continue\n",
    "    print(nomor)\n",
    "\n",
    "\n"
   ]
  },
  {
   "cell_type": "code",
   "execution_count": null,
   "id": "bfb59f8c",
   "metadata": {},
   "outputs": [],
   "source": []
  },
  {
   "cell_type": "code",
   "execution_count": null,
   "id": "9bbf4a3a",
   "metadata": {},
   "outputs": [],
   "source": []
  },
  {
   "cell_type": "code",
   "execution_count": null,
   "id": "461e78eb",
   "metadata": {},
   "outputs": [],
   "source": []
  },
  {
   "cell_type": "code",
   "execution_count": null,
   "id": "2013869d",
   "metadata": {},
   "outputs": [],
   "source": []
  },
  {
   "cell_type": "code",
   "execution_count": null,
   "id": "af38edb5",
   "metadata": {},
   "outputs": [],
   "source": []
  },
  {
   "cell_type": "code",
   "execution_count": null,
   "id": "8c76283b",
   "metadata": {},
   "outputs": [],
   "source": []
  },
  {
   "cell_type": "code",
   "execution_count": null,
   "id": "607d686d",
   "metadata": {},
   "outputs": [],
   "source": []
  }
 ],
 "metadata": {
  "kernelspec": {
   "display_name": "Python 3 (ipykernel)",
   "language": "python",
   "name": "python3"
  },
  "language_info": {
   "codemirror_mode": {
    "name": "ipython",
    "version": 3
   },
   "file_extension": ".py",
   "mimetype": "text/x-python",
   "name": "python",
   "nbconvert_exporter": "python",
   "pygments_lexer": "ipython3",
   "version": "3.11.4"
  }
 },
 "nbformat": 4,
 "nbformat_minor": 5
}
