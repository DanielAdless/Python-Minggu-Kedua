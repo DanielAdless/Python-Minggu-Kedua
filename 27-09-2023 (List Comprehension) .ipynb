{
 "cells": [
  {
   "cell_type": "code",
   "execution_count": null,
   "id": "f177e53f",
   "metadata": {},
   "outputs": [],
   "source": [
    "# List Comprehension adalah salah satu cara untuk menghasilkan list baru berdasarkan list atau iterables"
   ]
  },
  {
   "cell_type": "code",
   "execution_count": 9,
   "id": "b8e26816",
   "metadata": {},
   "outputs": [],
   "source": [
    "angka = [2,3,4]"
   ]
  },
  {
   "cell_type": "code",
   "execution_count": 10,
   "id": "92cd9d06",
   "metadata": {},
   "outputs": [],
   "source": [
    "kubik = []"
   ]
  },
  {
   "cell_type": "code",
   "execution_count": 11,
   "id": "2796f0fb",
   "metadata": {},
   "outputs": [
    {
     "name": "stdout",
     "output_type": "stream",
     "text": [
      "[8, 27, 64]\n"
     ]
    }
   ],
   "source": [
    "for i in angka:\n",
    "    kubik.append(i**3)\n",
    "print(kubik)"
   ]
  },
  {
   "cell_type": "code",
   "execution_count": 12,
   "id": "f9ca09c0",
   "metadata": {},
   "outputs": [
    {
     "name": "stdout",
     "output_type": "stream",
     "text": [
      "['c']\n"
     ]
    }
   ],
   "source": [
    "# Mencari huruf yang duplikat\n",
    "\n",
    "abc = ['a', 'b', 'c']\n",
    "cde = ['c', 'd', 'e']\n",
    "\n",
    "duplikat = []\n",
    "\n",
    "for i in abc:\n",
    "    for j in cde:\n",
    "        if i == j:\n",
    "            duplikat.append(i)\n",
    "\n",
    "print(duplikat)\n",
    "          "
   ]
  },
  {
   "cell_type": "code",
   "execution_count": 13,
   "id": "1b63bd02",
   "metadata": {},
   "outputs": [
    {
     "name": "stdout",
     "output_type": "stream",
     "text": [
      "[1, 4, 9, 16, 25]\n"
     ]
    }
   ],
   "source": [
    "# Task 1\n",
    "# kuadrat\n",
    "numbers = [1, 2, 3, 4, 5]\n",
    "squared = [x ** 2 for x in numbers]\n",
    "print(squared)"
   ]
  },
  {
   "cell_type": "code",
   "execution_count": 14,
   "id": "780b404b",
   "metadata": {},
   "outputs": [
    {
     "name": "stdout",
     "output_type": "stream",
     "text": [
      "[(1, 4), (1, 5), (1, 6), (1, 7), (2, 4), (2, 5), (2, 6), (2, 7), (3, 4), (3, 5), (3, 6), (3, 7)]\n"
     ]
    }
   ],
   "source": [
    "# Task 2\n",
    "\n",
    "# list yang berisi tupel (x, y) untuk x < y\n",
    "abjad = [(x, y) for x in range(1, 4) for y in range(4, 8) if x < y]\n",
    "print(abjad)\n",
    "\n"
   ]
  },
  {
   "cell_type": "code",
   "execution_count": 15,
   "id": "0be012d2",
   "metadata": {},
   "outputs": [
    {
     "name": "stdout",
     "output_type": "stream",
     "text": [
      "Hello,World!Pythonisthebest!\n"
     ]
    }
   ],
   "source": [
    "string1 = \"Hello, World!\"\n",
    "string2 = \"Python is the best!\"\n",
    "\n",
    "combined_string = ''.join([char for string in [string1, string2] for char in string if char != ' '])\n",
    "\n",
    "print(combined_string)\n"
   ]
  },
  {
   "cell_type": "code",
   "execution_count": 8,
   "id": "acac63b5",
   "metadata": {},
   "outputs": [
    {
     "name": "stdout",
     "output_type": "stream",
     "text": [
      "['angka lebih kecil', 'angka lebih kecil', 'angka sama', 'angka lebih kecil', 'angka sama', 'angka lebih besar', 'angka lebih kecil', 'angka lebih kecil', 'angka lebih kecil']\n"
     ]
    }
   ],
   "source": [
    "angka1 = [2, 3, 1]\n",
    "angka2 = [5, 3, 2]\n",
    "operator = []\n",
    "\n",
    "for x in angka1:\n",
    "    for y in angka2:\n",
    "        if x > y:\n",
    "            operator.append(\"angka lebih besar\")\n",
    "        elif x == y:\n",
    "            operator.append(\"angka sama\")\n",
    "        else:\n",
    "            operator.append(\"angka lebih kecil\")\n",
    "\n",
    "print(operator)\n"
   ]
  },
  {
   "cell_type": "code",
   "execution_count": 16,
   "id": "bf79819f",
   "metadata": {},
   "outputs": [],
   "source": [
    "# Lanjutan list"
   ]
  },
  {
   "cell_type": "code",
   "execution_count": 17,
   "id": "8941c1ff",
   "metadata": {},
   "outputs": [
    {
     "name": "stdout",
     "output_type": "stream",
     "text": [
      "['DATA', 'SCIENCE']\n"
     ]
    }
   ],
   "source": [
    "data = [\"data\", \"science\"]\n",
    "\n",
    "upper = [_.upper() for _ in data]\n",
    "\n",
    "print(upper)"
   ]
  },
  {
   "cell_type": "code",
   "execution_count": 19,
   "id": "63aebd7c",
   "metadata": {},
   "outputs": [
    {
     "name": "stdout",
     "output_type": "stream",
     "text": [
      "[[1, 1], [9, 27], [25, 125], [49, 343]]\n"
     ]
    }
   ],
   "source": [
    "angka = range(1, 8, 2)\n",
    "kuadrat_kubik = [[x**2, x**3] for x in angka]\n",
    "print(kuadrat_kubik)\n"
   ]
  },
  {
   "cell_type": "code",
   "execution_count": 4,
   "id": "7045e0bd",
   "metadata": {},
   "outputs": [
    {
     "name": "stdout",
     "output_type": "stream",
     "text": [
      "[1, 4, 3, 16, 5]\n"
     ]
    }
   ],
   "source": [
    "nomor = [1, 2, 3, 4, 5]\n",
    "kubik = []\n",
    "\n",
    "for x in numbers:\n",
    "    if x % 2 == 0:\n",
    "        kubik.append(x ** 2)\n",
    "    else:\n",
    "        kubik.append(x)\n",
    "\n",
    "print(kubik)\n"
   ]
  },
  {
   "cell_type": "code",
   "execution_count": null,
   "id": "19003aed",
   "metadata": {},
   "outputs": [],
   "source": []
  },
  {
   "cell_type": "code",
   "execution_count": null,
   "id": "986f269e",
   "metadata": {},
   "outputs": [],
   "source": []
  },
  {
   "cell_type": "code",
   "execution_count": null,
   "id": "3ffd66e9",
   "metadata": {},
   "outputs": [],
   "source": []
  }
 ],
 "metadata": {
  "kernelspec": {
   "display_name": "Python 3 (ipykernel)",
   "language": "python",
   "name": "python3"
  },
  "language_info": {
   "codemirror_mode": {
    "name": "ipython",
    "version": 3
   },
   "file_extension": ".py",
   "mimetype": "text/x-python",
   "name": "python",
   "nbconvert_exporter": "python",
   "pygments_lexer": "ipython3",
   "version": "3.11.4"
  }
 },
 "nbformat": 4,
 "nbformat_minor": 5
}
